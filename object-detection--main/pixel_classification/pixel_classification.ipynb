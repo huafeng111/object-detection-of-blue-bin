{
 "cells": [
  {
   "cell_type": "code",
   "execution_count": 6,
   "id": "fbf95b0a",
   "metadata": {},
   "outputs": [
    {
     "name": "stdout",
     "output_type": "stream",
     "text": [
      "The autoreload extension is already loaded. To reload it, use:\n",
      "  %reload_ext autoreload\n"
     ]
    }
   ],
   "source": [
    "%load_ext autoreload\n",
    "%autoreload 2"
   ]
  },
  {
   "cell_type": "code",
   "execution_count": 7,
   "id": "5aea7995",
   "metadata": {},
   "outputs": [
    {
     "name": "stdout",
     "output_type": "stream",
     "text": [
      "Precision: 0.951807\n"
     ]
    }
   ],
   "source": [
    "'''\n",
    "ECE276A WI22 PR1: Color Classification and Recycling Bin Detection\n",
    "'''\n",
    "\n",
    "\n",
    "from __future__ import division\n",
    "\n",
    "from generate_rgb_data import read_pixels\n",
    "from pixel_classifier import PixelClassifier\n",
    "\n",
    "\n",
    "# test the classifier\n",
    "\n",
    "folder = 'data/validation/blue'\n",
    "\n",
    "X = read_pixels(folder)\n",
    "myPixelClassifier = PixelClassifier()\n",
    "y = myPixelClassifier.classify(X)\n",
    "\n",
    "print('Precision: %f' % (sum(y==3)/y.shape[0]))"
   ]
  },
  {
   "cell_type": "code",
   "execution_count": 8,
   "id": "36f87d39",
   "metadata": {},
   "outputs": [
    {
     "data": {
      "text/plain": [
       "[<matplotlib.lines.Line2D at 0x7f7bea174d00>]"
      ]
     },
     "execution_count": 8,
     "metadata": {},
     "output_type": "execute_result"
    },
    {
     "data": {
      "image/png": "[encoded data removed]",
      "text/plain": [
       "<Figure size 432x288 with 1 Axes>"
      ]
     },
     "metadata": {
      "needs_background": "light"
     },
     "output_type": "display_data"
    }
   ],
   "source": [
    "# Plot training procedure.\n",
    "import matplotlib.pyplot as plt\n",
    "plt.plot(\n",
    "    myPixelClassifier.loss_steps[\"step\"],\n",
    "    myPixelClassifier.loss_steps[\"loss\"],\n",
    ")"
   ]
  },
  {
   "cell_type": "code",
   "execution_count": 9,
   "id": "24ffe27c",
   "metadata": {},
   "outputs": [
    {
     "name": "stdout",
     "output_type": "stream",
     "text": [
      "              precision    recall  f1-score   support\n",
      "\n",
      "         red       0.94      1.00      0.97        82\n",
      "       green       1.00      0.99      0.99        68\n",
      "        blue       1.00      0.95      0.98        83\n",
      "\n",
      "    accuracy                           0.98       233\n",
      "   macro avg       0.98      0.98      0.98       233\n",
      "weighted avg       0.98      0.98      0.98       233\n",
      "\n"
     ]
    }
   ],
   "source": [
    "# Show classification report.\n",
    "from sklearn.linear_model import LogisticRegression\n",
    "from sklearn.metrics import classification_report\n",
    "\n",
    "val_preds = myPixelClassifier.classify(myPixelClassifier.val_samples)\n",
    "target_names = [\"red\", \"green\", \"blue\"]\n",
    "print(classification_report(myPixelClassifier.val_labels, val_preds, target_names=target_names))"
   ]
  },
  {
   "cell_type": "code",
   "execution_count": 10,
   "id": "c520df95",
   "metadata": {},
   "outputs": [
    {
     "name": "stdout",
     "output_type": "stream",
     "text": [
      "[[82  0  0]\n",
      " [ 1 67  0]\n",
      " [ 4  0 79]]\n"
     ]
    }
   ],
   "source": [
    "# Show confusion matrix.\n",
    "from sklearn.metrics import confusion_matrix\n",
    "\n",
    "print(confusion_matrix(myPixelClassifier.val_labels, val_preds))"
   ]
  },
  {
   "cell_type": "code",
   "execution_count": null,
   "id": "349c113b",
   "metadata": {},
   "outputs": [],
   "source": []
  }
 ],
 "metadata": {
  "kernelspec": {
   "display_name": "Python 3 (ipykernel)",
   "language": "python",
   "name": "python3"
  },
  "language_info": {
   "codemirror_mode": {
    "name": "ipython",
    "version": 3
   },
   "file_extension": ".py",
   "mimetype": "text/x-python",
   "name": "python",
   "nbconvert_exporter": "python",
   "pygments_lexer": "ipython3",
   "version": "3.8.0"
  }
 },
 "nbformat": 4,
 "nbformat_minor": 5
}
